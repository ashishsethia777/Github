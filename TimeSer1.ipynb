{
 "cells": [
  {
   "cell_type": "code",
   "execution_count": 287,
   "metadata": {},
   "outputs": [],
   "source": [
    "import pandas as pd\n",
    "import numpy as np\n",
    "import glob\n",
    "import matplotlib.pyplot as plt\n",
    "import seaborn as sns\n",
    "%matplotlib inline\n",
    "from scipy.stats import chi2_contingency\n",
    "from scipy.stats import chi2\n",
    "from sklearn.metrics import mean_squared_error\n",
    "from statsmodels.tsa.api import ExponentialSmoothing, SimpleExpSmoothing, Holt"
   ]
  },
  {
   "cell_type": "code",
   "execution_count": 2,
   "metadata": {},
   "outputs": [],
   "source": [
    "all_files = glob.glob(r'C:\\Users\\sathvis\\Desktop\\p1_ips_data'+\"/*.csv\")\n",
    "li = []\n",
    "\n",
    "for filename in all_files:\n",
    "    df = pd.read_csv(filename)\n",
    "    li.append(df)\n",
    "frame12 = pd.concat(li, axis=0, ignore_index=True)"
   ]
  },
  {
   "cell_type": "code",
   "execution_count": 4,
   "metadata": {},
   "outputs": [
    {
     "data": {
      "text/plain": [
       "Index(['customer_id', 'device_ip', 'interface', 'metric_text', 'date', 'time',\n",
       "       'hostname', 'metric_uid', 'value'],\n",
       "      dtype='object')"
      ]
     },
     "execution_count": 4,
     "metadata": {},
     "output_type": "execute_result"
    }
   ],
   "source": [
    "frame12.columns"
   ]
  },
  {
   "cell_type": "code",
   "execution_count": 5,
   "metadata": {},
   "outputs": [
    {
     "data": {
      "text/plain": [
       "array(['Availability', 'Win-CPU Load', 'Mem Usage Load', 'CPU Load',\n",
       "       'Swap Mem Usage', 'CiscoMemoryUtilization', 'CiscoTemperature',\n",
       "       'PacketLoss', 'RouterCPUUtilization', 'ResponseTime',\n",
       "       'CiscoCPUUtilization_total_1M', 'CPUUtilization',\n",
       "       'Total Memory Free', 'Total Memory Used', 'Disk Usage: Per Drive',\n",
       "       'Memory Usage', 'Processor Usage'], dtype=object)"
      ]
     },
     "execution_count": 5,
     "metadata": {},
     "output_type": "execute_result"
    }
   ],
   "source": [
    "frame12.metric_text.unique()"
   ]
  },
  {
   "cell_type": "code",
   "execution_count": 6,
   "metadata": {},
   "outputs": [
    {
     "data": {
      "text/plain": [
       "array(['10.254.228.8', '192.168.224.3', '10.254.231.7', '10.254.208.5',\n",
       "       '192.168.242.6', '10.51.30.15', '10.54.34.34', '10.54.30.13',\n",
       "       '172.16.92.1', '192.168.14.132', '10.157.30.11'], dtype=object)"
      ]
     },
     "execution_count": 6,
     "metadata": {},
     "output_type": "execute_result"
    }
   ],
   "source": [
    "frame12.device_ip.unique()"
   ]
  },
  {
   "cell_type": "code",
   "execution_count": 255,
   "metadata": {},
   "outputs": [],
   "source": [
    "sam2=frame12[frame12['device_ip']=='10.254.208.5']"
   ]
  },
  {
   "cell_type": "code",
   "execution_count": 226,
   "metadata": {},
   "outputs": [
    {
     "data": {
      "text/html": [
       "<div>\n",
       "<style scoped>\n",
       "    .dataframe tbody tr th:only-of-type {\n",
       "        vertical-align: middle;\n",
       "    }\n",
       "\n",
       "    .dataframe tbody tr th {\n",
       "        vertical-align: top;\n",
       "    }\n",
       "\n",
       "    .dataframe thead th {\n",
       "        text-align: right;\n",
       "    }\n",
       "</style>\n",
       "<table border=\"1\" class=\"dataframe\">\n",
       "  <thead>\n",
       "    <tr style=\"text-align: right;\">\n",
       "      <th></th>\n",
       "      <th>customer_id</th>\n",
       "      <th>device_ip</th>\n",
       "      <th>interface</th>\n",
       "      <th>metric_text</th>\n",
       "      <th>date</th>\n",
       "      <th>time</th>\n",
       "      <th>hostname</th>\n",
       "      <th>metric_uid</th>\n",
       "      <th>value</th>\n",
       "    </tr>\n",
       "  </thead>\n",
       "  <tbody>\n",
       "    <tr>\n",
       "      <th>65424</th>\n",
       "      <td>SCBATMS87816</td>\n",
       "      <td>10.254.208.5</td>\n",
       "      <td>NaN</td>\n",
       "      <td>CiscoTemperature</td>\n",
       "      <td>2019-04-10 00:00:00</td>\n",
       "      <td>2019-04-10 00:00:00</td>\n",
       "      <td>ANBLR-SW02</td>\n",
       "      <td>N31:P24</td>\n",
       "      <td>0.0</td>\n",
       "    </tr>\n",
       "    <tr>\n",
       "      <th>65425</th>\n",
       "      <td>SCBATMS87816</td>\n",
       "      <td>10.254.208.5</td>\n",
       "      <td>NaN</td>\n",
       "      <td>CiscoTemperature</td>\n",
       "      <td>2019-04-10 00:00:00</td>\n",
       "      <td>2019-04-10 00:01:00</td>\n",
       "      <td>ANBLR-SW02</td>\n",
       "      <td>N31:P24</td>\n",
       "      <td>0.0</td>\n",
       "    </tr>\n",
       "    <tr>\n",
       "      <th>65426</th>\n",
       "      <td>SCBATMS87816</td>\n",
       "      <td>10.254.208.5</td>\n",
       "      <td>NaN</td>\n",
       "      <td>CiscoTemperature</td>\n",
       "      <td>2019-04-10 00:00:00</td>\n",
       "      <td>2019-04-10 00:02:00</td>\n",
       "      <td>ANBLR-SW02</td>\n",
       "      <td>N31:P24</td>\n",
       "      <td>0.0</td>\n",
       "    </tr>\n",
       "    <tr>\n",
       "      <th>65427</th>\n",
       "      <td>SCBATMS87816</td>\n",
       "      <td>10.254.208.5</td>\n",
       "      <td>NaN</td>\n",
       "      <td>CiscoTemperature</td>\n",
       "      <td>2019-04-10 00:00:00</td>\n",
       "      <td>2019-04-10 00:03:00</td>\n",
       "      <td>ANBLR-SW02</td>\n",
       "      <td>N31:P24</td>\n",
       "      <td>0.0</td>\n",
       "    </tr>\n",
       "    <tr>\n",
       "      <th>65428</th>\n",
       "      <td>SCBATMS87816</td>\n",
       "      <td>10.254.208.5</td>\n",
       "      <td>NaN</td>\n",
       "      <td>CiscoTemperature</td>\n",
       "      <td>2019-04-10 00:00:00</td>\n",
       "      <td>2019-04-10 00:04:00</td>\n",
       "      <td>ANBLR-SW02</td>\n",
       "      <td>N31:P24</td>\n",
       "      <td>0.0</td>\n",
       "    </tr>\n",
       "  </tbody>\n",
       "</table>\n",
       "</div>"
      ],
      "text/plain": [
       "        customer_id     device_ip  interface       metric_text  \\\n",
       "65424  SCBATMS87816  10.254.208.5        NaN  CiscoTemperature   \n",
       "65425  SCBATMS87816  10.254.208.5        NaN  CiscoTemperature   \n",
       "65426  SCBATMS87816  10.254.208.5        NaN  CiscoTemperature   \n",
       "65427  SCBATMS87816  10.254.208.5        NaN  CiscoTemperature   \n",
       "65428  SCBATMS87816  10.254.208.5        NaN  CiscoTemperature   \n",
       "\n",
       "                      date                 time    hostname metric_uid  value  \n",
       "65424  2019-04-10 00:00:00  2019-04-10 00:00:00  ANBLR-SW02    N31:P24    0.0  \n",
       "65425  2019-04-10 00:00:00  2019-04-10 00:01:00  ANBLR-SW02    N31:P24    0.0  \n",
       "65426  2019-04-10 00:00:00  2019-04-10 00:02:00  ANBLR-SW02    N31:P24    0.0  \n",
       "65427  2019-04-10 00:00:00  2019-04-10 00:03:00  ANBLR-SW02    N31:P24    0.0  \n",
       "65428  2019-04-10 00:00:00  2019-04-10 00:04:00  ANBLR-SW02    N31:P24    0.0  "
      ]
     },
     "execution_count": 226,
     "metadata": {},
     "output_type": "execute_result"
    }
   ],
   "source": [
    "sam2.head()"
   ]
  },
  {
   "cell_type": "code",
   "execution_count": 256,
   "metadata": {},
   "outputs": [
    {
     "data": {
      "text/plain": [
       "array(['CiscoTemperature', 'Availability', 'ResponseTime', 'PacketLoss'],\n",
       "      dtype=object)"
      ]
     },
     "execution_count": 256,
     "metadata": {},
     "output_type": "execute_result"
    }
   ],
   "source": [
    "sam2.metric_text.unique()"
   ]
  },
  {
   "cell_type": "code",
   "execution_count": 82,
   "metadata": {},
   "outputs": [],
   "source": [
    "sam1=frame12[frame12['device_ip']=='10.254.228.8'][['time','metric_text','value']]"
   ]
  },
  {
   "cell_type": "code",
   "execution_count": 214,
   "metadata": {},
   "outputs": [],
   "source": [
    "#sam2=frame12[frame12['device_ip']=='10.254.231.7'][['time','metric_text','value']]"
   ]
  },
  {
   "cell_type": "code",
   "execution_count": 215,
   "metadata": {},
   "outputs": [
    {
     "data": {
      "text/html": [
       "<div>\n",
       "<style scoped>\n",
       "    .dataframe tbody tr th:only-of-type {\n",
       "        vertical-align: middle;\n",
       "    }\n",
       "\n",
       "    .dataframe tbody tr th {\n",
       "        vertical-align: top;\n",
       "    }\n",
       "\n",
       "    .dataframe thead th {\n",
       "        text-align: right;\n",
       "    }\n",
       "</style>\n",
       "<table border=\"1\" class=\"dataframe\">\n",
       "  <thead>\n",
       "    <tr style=\"text-align: right;\">\n",
       "      <th></th>\n",
       "      <th>time</th>\n",
       "      <th>metric_text</th>\n",
       "      <th>value</th>\n",
       "    </tr>\n",
       "  </thead>\n",
       "  <tbody>\n",
       "    <tr>\n",
       "      <th>2741298</th>\n",
       "      <td>2019-05-01 00:00:00</td>\n",
       "      <td>Availability</td>\n",
       "      <td>1.0</td>\n",
       "    </tr>\n",
       "  </tbody>\n",
       "</table>\n",
       "</div>"
      ],
      "text/plain": [
       "                        time   metric_text  value\n",
       "2741298  2019-05-01 00:00:00  Availability    1.0"
      ]
     },
     "execution_count": 215,
     "metadata": {},
     "output_type": "execute_result"
    }
   ],
   "source": [
    "#sam2[sam2['time']=='2019-05-01 00:00:00']"
   ]
  },
  {
   "cell_type": "code",
   "execution_count": 229,
   "metadata": {},
   "outputs": [
    {
     "data": {
      "text/plain": [
       "array(['CiscoTemperature', 'Availability', 'ResponseTime', 'PacketLoss'],\n",
       "      dtype=object)"
      ]
     },
     "execution_count": 229,
     "metadata": {},
     "output_type": "execute_result"
    }
   ],
   "source": [
    "sam2.metric_text.unique()"
   ]
  },
  {
   "cell_type": "code",
   "execution_count": 171,
   "metadata": {},
   "outputs": [
    {
     "data": {
      "text/plain": [
       "array(['Availability', 'CiscoMemoryUtilization', 'CiscoTemperature',\n",
       "       'PacketLoss', 'RouterCPUUtilization', 'ResponseTime'], dtype=object)"
      ]
     },
     "execution_count": 171,
     "metadata": {},
     "output_type": "execute_result"
    }
   ],
   "source": [
    "sam2.metric_text.unique()"
   ]
  },
  {
   "cell_type": "code",
   "execution_count": 257,
   "metadata": {},
   "outputs": [
    {
     "data": {
      "text/html": [
       "<div>\n",
       "<style scoped>\n",
       "    .dataframe tbody tr th:only-of-type {\n",
       "        vertical-align: middle;\n",
       "    }\n",
       "\n",
       "    .dataframe tbody tr th {\n",
       "        vertical-align: top;\n",
       "    }\n",
       "\n",
       "    .dataframe thead th {\n",
       "        text-align: right;\n",
       "    }\n",
       "</style>\n",
       "<table border=\"1\" class=\"dataframe\">\n",
       "  <thead>\n",
       "    <tr style=\"text-align: right;\">\n",
       "      <th></th>\n",
       "      <th>customer_id</th>\n",
       "      <th>device_ip</th>\n",
       "      <th>interface</th>\n",
       "      <th>metric_text</th>\n",
       "      <th>date</th>\n",
       "      <th>time</th>\n",
       "      <th>hostname</th>\n",
       "      <th>metric_uid</th>\n",
       "      <th>value</th>\n",
       "    </tr>\n",
       "  </thead>\n",
       "  <tbody>\n",
       "    <tr>\n",
       "      <th>65424</th>\n",
       "      <td>SCBATMS87816</td>\n",
       "      <td>10.254.208.5</td>\n",
       "      <td>NaN</td>\n",
       "      <td>CiscoTemperature</td>\n",
       "      <td>2019-04-10 00:00:00</td>\n",
       "      <td>2019-04-10 00:00:00</td>\n",
       "      <td>ANBLR-SW02</td>\n",
       "      <td>N31:P24</td>\n",
       "      <td>0.0</td>\n",
       "    </tr>\n",
       "    <tr>\n",
       "      <th>65425</th>\n",
       "      <td>SCBATMS87816</td>\n",
       "      <td>10.254.208.5</td>\n",
       "      <td>NaN</td>\n",
       "      <td>CiscoTemperature</td>\n",
       "      <td>2019-04-10 00:00:00</td>\n",
       "      <td>2019-04-10 00:01:00</td>\n",
       "      <td>ANBLR-SW02</td>\n",
       "      <td>N31:P24</td>\n",
       "      <td>0.0</td>\n",
       "    </tr>\n",
       "    <tr>\n",
       "      <th>65426</th>\n",
       "      <td>SCBATMS87816</td>\n",
       "      <td>10.254.208.5</td>\n",
       "      <td>NaN</td>\n",
       "      <td>CiscoTemperature</td>\n",
       "      <td>2019-04-10 00:00:00</td>\n",
       "      <td>2019-04-10 00:02:00</td>\n",
       "      <td>ANBLR-SW02</td>\n",
       "      <td>N31:P24</td>\n",
       "      <td>0.0</td>\n",
       "    </tr>\n",
       "    <tr>\n",
       "      <th>65427</th>\n",
       "      <td>SCBATMS87816</td>\n",
       "      <td>10.254.208.5</td>\n",
       "      <td>NaN</td>\n",
       "      <td>CiscoTemperature</td>\n",
       "      <td>2019-04-10 00:00:00</td>\n",
       "      <td>2019-04-10 00:03:00</td>\n",
       "      <td>ANBLR-SW02</td>\n",
       "      <td>N31:P24</td>\n",
       "      <td>0.0</td>\n",
       "    </tr>\n",
       "    <tr>\n",
       "      <th>65428</th>\n",
       "      <td>SCBATMS87816</td>\n",
       "      <td>10.254.208.5</td>\n",
       "      <td>NaN</td>\n",
       "      <td>CiscoTemperature</td>\n",
       "      <td>2019-04-10 00:00:00</td>\n",
       "      <td>2019-04-10 00:04:00</td>\n",
       "      <td>ANBLR-SW02</td>\n",
       "      <td>N31:P24</td>\n",
       "      <td>0.0</td>\n",
       "    </tr>\n",
       "  </tbody>\n",
       "</table>\n",
       "</div>"
      ],
      "text/plain": [
       "        customer_id     device_ip  interface       metric_text  \\\n",
       "65424  SCBATMS87816  10.254.208.5        NaN  CiscoTemperature   \n",
       "65425  SCBATMS87816  10.254.208.5        NaN  CiscoTemperature   \n",
       "65426  SCBATMS87816  10.254.208.5        NaN  CiscoTemperature   \n",
       "65427  SCBATMS87816  10.254.208.5        NaN  CiscoTemperature   \n",
       "65428  SCBATMS87816  10.254.208.5        NaN  CiscoTemperature   \n",
       "\n",
       "                      date                 time    hostname metric_uid  value  \n",
       "65424  2019-04-10 00:00:00  2019-04-10 00:00:00  ANBLR-SW02    N31:P24    0.0  \n",
       "65425  2019-04-10 00:00:00  2019-04-10 00:01:00  ANBLR-SW02    N31:P24    0.0  \n",
       "65426  2019-04-10 00:00:00  2019-04-10 00:02:00  ANBLR-SW02    N31:P24    0.0  \n",
       "65427  2019-04-10 00:00:00  2019-04-10 00:03:00  ANBLR-SW02    N31:P24    0.0  \n",
       "65428  2019-04-10 00:00:00  2019-04-10 00:04:00  ANBLR-SW02    N31:P24    0.0  "
      ]
     },
     "execution_count": 257,
     "metadata": {},
     "output_type": "execute_result"
    }
   ],
   "source": [
    "sam2.head()"
   ]
  },
  {
   "cell_type": "code",
   "execution_count": 258,
   "metadata": {},
   "outputs": [],
   "source": [
    " sam2.index=pd.to_datetime(sam2['time'])\n",
    " sam2=sam2.drop(['time'],axis=1)   "
   ]
  },
  {
   "cell_type": "code",
   "execution_count": 259,
   "metadata": {},
   "outputs": [
    {
     "data": {
      "text/html": [
       "<div>\n",
       "<style scoped>\n",
       "    .dataframe tbody tr th:only-of-type {\n",
       "        vertical-align: middle;\n",
       "    }\n",
       "\n",
       "    .dataframe tbody tr th {\n",
       "        vertical-align: top;\n",
       "    }\n",
       "\n",
       "    .dataframe thead th {\n",
       "        text-align: right;\n",
       "    }\n",
       "</style>\n",
       "<table border=\"1\" class=\"dataframe\">\n",
       "  <thead>\n",
       "    <tr style=\"text-align: right;\">\n",
       "      <th></th>\n",
       "      <th>customer_id</th>\n",
       "      <th>device_ip</th>\n",
       "      <th>interface</th>\n",
       "      <th>metric_text</th>\n",
       "      <th>date</th>\n",
       "      <th>hostname</th>\n",
       "      <th>metric_uid</th>\n",
       "      <th>value</th>\n",
       "    </tr>\n",
       "    <tr>\n",
       "      <th>time</th>\n",
       "      <th></th>\n",
       "      <th></th>\n",
       "      <th></th>\n",
       "      <th></th>\n",
       "      <th></th>\n",
       "      <th></th>\n",
       "      <th></th>\n",
       "      <th></th>\n",
       "    </tr>\n",
       "  </thead>\n",
       "  <tbody>\n",
       "    <tr>\n",
       "      <th>2019-04-10 00:00:00</th>\n",
       "      <td>SCBATMS87816</td>\n",
       "      <td>10.254.208.5</td>\n",
       "      <td>NaN</td>\n",
       "      <td>CiscoTemperature</td>\n",
       "      <td>2019-04-10 00:00:00</td>\n",
       "      <td>ANBLR-SW02</td>\n",
       "      <td>N31:P24</td>\n",
       "      <td>0.0</td>\n",
       "    </tr>\n",
       "    <tr>\n",
       "      <th>2019-04-10 00:01:00</th>\n",
       "      <td>SCBATMS87816</td>\n",
       "      <td>10.254.208.5</td>\n",
       "      <td>NaN</td>\n",
       "      <td>CiscoTemperature</td>\n",
       "      <td>2019-04-10 00:00:00</td>\n",
       "      <td>ANBLR-SW02</td>\n",
       "      <td>N31:P24</td>\n",
       "      <td>0.0</td>\n",
       "    </tr>\n",
       "    <tr>\n",
       "      <th>2019-04-10 00:02:00</th>\n",
       "      <td>SCBATMS87816</td>\n",
       "      <td>10.254.208.5</td>\n",
       "      <td>NaN</td>\n",
       "      <td>CiscoTemperature</td>\n",
       "      <td>2019-04-10 00:00:00</td>\n",
       "      <td>ANBLR-SW02</td>\n",
       "      <td>N31:P24</td>\n",
       "      <td>0.0</td>\n",
       "    </tr>\n",
       "    <tr>\n",
       "      <th>2019-04-10 00:03:00</th>\n",
       "      <td>SCBATMS87816</td>\n",
       "      <td>10.254.208.5</td>\n",
       "      <td>NaN</td>\n",
       "      <td>CiscoTemperature</td>\n",
       "      <td>2019-04-10 00:00:00</td>\n",
       "      <td>ANBLR-SW02</td>\n",
       "      <td>N31:P24</td>\n",
       "      <td>0.0</td>\n",
       "    </tr>\n",
       "    <tr>\n",
       "      <th>2019-04-10 00:04:00</th>\n",
       "      <td>SCBATMS87816</td>\n",
       "      <td>10.254.208.5</td>\n",
       "      <td>NaN</td>\n",
       "      <td>CiscoTemperature</td>\n",
       "      <td>2019-04-10 00:00:00</td>\n",
       "      <td>ANBLR-SW02</td>\n",
       "      <td>N31:P24</td>\n",
       "      <td>0.0</td>\n",
       "    </tr>\n",
       "  </tbody>\n",
       "</table>\n",
       "</div>"
      ],
      "text/plain": [
       "                      customer_id     device_ip  interface       metric_text  \\\n",
       "time                                                                           \n",
       "2019-04-10 00:00:00  SCBATMS87816  10.254.208.5        NaN  CiscoTemperature   \n",
       "2019-04-10 00:01:00  SCBATMS87816  10.254.208.5        NaN  CiscoTemperature   \n",
       "2019-04-10 00:02:00  SCBATMS87816  10.254.208.5        NaN  CiscoTemperature   \n",
       "2019-04-10 00:03:00  SCBATMS87816  10.254.208.5        NaN  CiscoTemperature   \n",
       "2019-04-10 00:04:00  SCBATMS87816  10.254.208.5        NaN  CiscoTemperature   \n",
       "\n",
       "                                    date    hostname metric_uid  value  \n",
       "time                                                                    \n",
       "2019-04-10 00:00:00  2019-04-10 00:00:00  ANBLR-SW02    N31:P24    0.0  \n",
       "2019-04-10 00:01:00  2019-04-10 00:00:00  ANBLR-SW02    N31:P24    0.0  \n",
       "2019-04-10 00:02:00  2019-04-10 00:00:00  ANBLR-SW02    N31:P24    0.0  \n",
       "2019-04-10 00:03:00  2019-04-10 00:00:00  ANBLR-SW02    N31:P24    0.0  \n",
       "2019-04-10 00:04:00  2019-04-10 00:00:00  ANBLR-SW02    N31:P24    0.0  "
      ]
     },
     "execution_count": 259,
     "metadata": {},
     "output_type": "execute_result"
    }
   ],
   "source": [
    "sam2.head()"
   ]
  },
  {
   "cell_type": "code",
   "execution_count": 260,
   "metadata": {},
   "outputs": [
    {
     "data": {
      "text/html": [
       "<div>\n",
       "<style scoped>\n",
       "    .dataframe tbody tr th:only-of-type {\n",
       "        vertical-align: middle;\n",
       "    }\n",
       "\n",
       "    .dataframe tbody tr th {\n",
       "        vertical-align: top;\n",
       "    }\n",
       "\n",
       "    .dataframe thead th {\n",
       "        text-align: right;\n",
       "    }\n",
       "</style>\n",
       "<table border=\"1\" class=\"dataframe\">\n",
       "  <thead>\n",
       "    <tr style=\"text-align: right;\">\n",
       "      <th></th>\n",
       "      <th>value</th>\n",
       "      <th>metric_text</th>\n",
       "    </tr>\n",
       "    <tr>\n",
       "      <th>time</th>\n",
       "      <th></th>\n",
       "      <th></th>\n",
       "    </tr>\n",
       "  </thead>\n",
       "  <tbody>\n",
       "    <tr>\n",
       "      <th>2019-04-10 00:00:00</th>\n",
       "      <td>30.0</td>\n",
       "      <td>ResponseTime</td>\n",
       "    </tr>\n",
       "    <tr>\n",
       "      <th>2019-04-10 00:01:00</th>\n",
       "      <td>26.0</td>\n",
       "      <td>ResponseTime</td>\n",
       "    </tr>\n",
       "    <tr>\n",
       "      <th>2019-04-10 00:02:00</th>\n",
       "      <td>26.0</td>\n",
       "      <td>ResponseTime</td>\n",
       "    </tr>\n",
       "    <tr>\n",
       "      <th>2019-04-10 00:03:00</th>\n",
       "      <td>22.0</td>\n",
       "      <td>ResponseTime</td>\n",
       "    </tr>\n",
       "    <tr>\n",
       "      <th>2019-04-10 00:04:00</th>\n",
       "      <td>30.0</td>\n",
       "      <td>ResponseTime</td>\n",
       "    </tr>\n",
       "  </tbody>\n",
       "</table>\n",
       "</div>"
      ],
      "text/plain": [
       "                     value   metric_text\n",
       "time                                    \n",
       "2019-04-10 00:00:00   30.0  ResponseTime\n",
       "2019-04-10 00:01:00   26.0  ResponseTime\n",
       "2019-04-10 00:02:00   26.0  ResponseTime\n",
       "2019-04-10 00:03:00   22.0  ResponseTime\n",
       "2019-04-10 00:04:00   30.0  ResponseTime"
      ]
     },
     "execution_count": 260,
     "metadata": {},
     "output_type": "execute_result"
    }
   ],
   "source": [
    "sam2=sam2[sam2['metric_text']=='ResponseTime'][['value','metric_text']]\n",
    "sam2.head()"
   ]
  },
  {
   "cell_type": "code",
   "execution_count": 261,
   "metadata": {},
   "outputs": [
    {
     "data": {
      "text/plain": [
       "(38370, 2)"
      ]
     },
     "execution_count": 261,
     "metadata": {},
     "output_type": "execute_result"
    }
   ],
   "source": [
    "sam2.shape"
   ]
  },
  {
   "cell_type": "code",
   "execution_count": 247,
   "metadata": {},
   "outputs": [
    {
     "data": {
      "text/plain": [
       "Timestamp('2019-05-07 23:59:00')"
      ]
     },
     "execution_count": 247,
     "metadata": {},
     "output_type": "execute_result"
    }
   ],
   "source": [
    "sam2.index.max()"
   ]
  },
  {
   "cell_type": "code",
   "execution_count": 235,
   "metadata": {},
   "outputs": [
    {
     "data": {
      "text/plain": [
       "Timestamp('2019-04-10 00:00:00')"
      ]
     },
     "execution_count": 235,
     "metadata": {},
     "output_type": "execute_result"
    }
   ],
   "source": [
    "sam2.index.min()"
   ]
  },
  {
   "cell_type": "code",
   "execution_count": 262,
   "metadata": {},
   "outputs": [],
   "source": [
    "train=sam2[:'2019-05-01 00:00:00']\n",
    "#train=train[:-1]"
   ]
  },
  {
   "cell_type": "code",
   "execution_count": 263,
   "metadata": {},
   "outputs": [
    {
     "data": {
      "text/html": [
       "<div>\n",
       "<style scoped>\n",
       "    .dataframe tbody tr th:only-of-type {\n",
       "        vertical-align: middle;\n",
       "    }\n",
       "\n",
       "    .dataframe tbody tr th {\n",
       "        vertical-align: top;\n",
       "    }\n",
       "\n",
       "    .dataframe thead th {\n",
       "        text-align: right;\n",
       "    }\n",
       "</style>\n",
       "<table border=\"1\" class=\"dataframe\">\n",
       "  <thead>\n",
       "    <tr style=\"text-align: right;\">\n",
       "      <th></th>\n",
       "      <th>value</th>\n",
       "      <th>metric_text</th>\n",
       "    </tr>\n",
       "    <tr>\n",
       "      <th>time</th>\n",
       "      <th></th>\n",
       "      <th></th>\n",
       "    </tr>\n",
       "  </thead>\n",
       "  <tbody>\n",
       "    <tr>\n",
       "      <th>2019-04-29 23:56:00</th>\n",
       "      <td>32.0</td>\n",
       "      <td>ResponseTime</td>\n",
       "    </tr>\n",
       "    <tr>\n",
       "      <th>2019-04-29 23:57:00</th>\n",
       "      <td>36.0</td>\n",
       "      <td>ResponseTime</td>\n",
       "    </tr>\n",
       "    <tr>\n",
       "      <th>2019-04-29 23:58:00</th>\n",
       "      <td>31.0</td>\n",
       "      <td>ResponseTime</td>\n",
       "    </tr>\n",
       "    <tr>\n",
       "      <th>2019-04-29 23:59:00</th>\n",
       "      <td>44.0</td>\n",
       "      <td>ResponseTime</td>\n",
       "    </tr>\n",
       "    <tr>\n",
       "      <th>2019-05-01 00:00:00</th>\n",
       "      <td>34.0</td>\n",
       "      <td>ResponseTime</td>\n",
       "    </tr>\n",
       "  </tbody>\n",
       "</table>\n",
       "</div>"
      ],
      "text/plain": [
       "                     value   metric_text\n",
       "time                                    \n",
       "2019-04-29 23:56:00   32.0  ResponseTime\n",
       "2019-04-29 23:57:00   36.0  ResponseTime\n",
       "2019-04-29 23:58:00   31.0  ResponseTime\n",
       "2019-04-29 23:59:00   44.0  ResponseTime\n",
       "2019-05-01 00:00:00   34.0  ResponseTime"
      ]
     },
     "execution_count": 263,
     "metadata": {},
     "output_type": "execute_result"
    }
   ],
   "source": [
    "train.tail()"
   ]
  },
  {
   "cell_type": "code",
   "execution_count": 283,
   "metadata": {},
   "outputs": [
    {
     "data": {
      "text/html": [
       "<div>\n",
       "<style scoped>\n",
       "    .dataframe tbody tr th:only-of-type {\n",
       "        vertical-align: middle;\n",
       "    }\n",
       "\n",
       "    .dataframe tbody tr th {\n",
       "        vertical-align: top;\n",
       "    }\n",
       "\n",
       "    .dataframe thead th {\n",
       "        text-align: right;\n",
       "    }\n",
       "</style>\n",
       "<table border=\"1\" class=\"dataframe\">\n",
       "  <thead>\n",
       "    <tr style=\"text-align: right;\">\n",
       "      <th></th>\n",
       "      <th>value</th>\n",
       "      <th>metric_text</th>\n",
       "    </tr>\n",
       "    <tr>\n",
       "      <th>time</th>\n",
       "      <th></th>\n",
       "      <th></th>\n",
       "    </tr>\n",
       "  </thead>\n",
       "  <tbody>\n",
       "    <tr>\n",
       "      <th>2019-04-10 00:00:00</th>\n",
       "      <td>30.0</td>\n",
       "      <td>ResponseTime</td>\n",
       "    </tr>\n",
       "    <tr>\n",
       "      <th>2019-04-10 00:01:00</th>\n",
       "      <td>26.0</td>\n",
       "      <td>ResponseTime</td>\n",
       "    </tr>\n",
       "    <tr>\n",
       "      <th>2019-04-10 00:02:00</th>\n",
       "      <td>26.0</td>\n",
       "      <td>ResponseTime</td>\n",
       "    </tr>\n",
       "    <tr>\n",
       "      <th>2019-04-10 00:03:00</th>\n",
       "      <td>22.0</td>\n",
       "      <td>ResponseTime</td>\n",
       "    </tr>\n",
       "    <tr>\n",
       "      <th>2019-04-10 00:04:00</th>\n",
       "      <td>30.0</td>\n",
       "      <td>ResponseTime</td>\n",
       "    </tr>\n",
       "  </tbody>\n",
       "</table>\n",
       "</div>"
      ],
      "text/plain": [
       "                     value   metric_text\n",
       "time                                    \n",
       "2019-04-10 00:00:00   30.0  ResponseTime\n",
       "2019-04-10 00:01:00   26.0  ResponseTime\n",
       "2019-04-10 00:02:00   26.0  ResponseTime\n",
       "2019-04-10 00:03:00   22.0  ResponseTime\n",
       "2019-04-10 00:04:00   30.0  ResponseTime"
      ]
     },
     "execution_count": 283,
     "metadata": {},
     "output_type": "execute_result"
    }
   ],
   "source": [
    "train.head()"
   ]
  },
  {
   "cell_type": "code",
   "execution_count": 265,
   "metadata": {},
   "outputs": [],
   "source": [
    "test=sam2['2019-05-01 00:00:00':]\n",
    "#test=test[1:]\n"
   ]
  },
  {
   "cell_type": "code",
   "execution_count": 266,
   "metadata": {},
   "outputs": [
    {
     "data": {
      "text/html": [
       "<div>\n",
       "<style scoped>\n",
       "    .dataframe tbody tr th:only-of-type {\n",
       "        vertical-align: middle;\n",
       "    }\n",
       "\n",
       "    .dataframe tbody tr th {\n",
       "        vertical-align: top;\n",
       "    }\n",
       "\n",
       "    .dataframe thead th {\n",
       "        text-align: right;\n",
       "    }\n",
       "</style>\n",
       "<table border=\"1\" class=\"dataframe\">\n",
       "  <thead>\n",
       "    <tr style=\"text-align: right;\">\n",
       "      <th></th>\n",
       "      <th>value</th>\n",
       "      <th>metric_text</th>\n",
       "    </tr>\n",
       "    <tr>\n",
       "      <th>time</th>\n",
       "      <th></th>\n",
       "      <th></th>\n",
       "    </tr>\n",
       "  </thead>\n",
       "  <tbody>\n",
       "    <tr>\n",
       "      <th>2019-05-01 00:00:00</th>\n",
       "      <td>34.0</td>\n",
       "      <td>ResponseTime</td>\n",
       "    </tr>\n",
       "    <tr>\n",
       "      <th>2019-05-01 00:01:00</th>\n",
       "      <td>27.0</td>\n",
       "      <td>ResponseTime</td>\n",
       "    </tr>\n",
       "    <tr>\n",
       "      <th>2019-05-01 00:02:00</th>\n",
       "      <td>28.0</td>\n",
       "      <td>ResponseTime</td>\n",
       "    </tr>\n",
       "    <tr>\n",
       "      <th>2019-05-01 00:03:00</th>\n",
       "      <td>35.0</td>\n",
       "      <td>ResponseTime</td>\n",
       "    </tr>\n",
       "    <tr>\n",
       "      <th>2019-05-01 00:04:00</th>\n",
       "      <td>28.0</td>\n",
       "      <td>ResponseTime</td>\n",
       "    </tr>\n",
       "  </tbody>\n",
       "</table>\n",
       "</div>"
      ],
      "text/plain": [
       "                     value   metric_text\n",
       "time                                    \n",
       "2019-05-01 00:00:00   34.0  ResponseTime\n",
       "2019-05-01 00:01:00   27.0  ResponseTime\n",
       "2019-05-01 00:02:00   28.0  ResponseTime\n",
       "2019-05-01 00:03:00   35.0  ResponseTime\n",
       "2019-05-01 00:04:00   28.0  ResponseTime"
      ]
     },
     "execution_count": 266,
     "metadata": {},
     "output_type": "execute_result"
    }
   ],
   "source": [
    "test.head()"
   ]
  },
  {
   "cell_type": "code",
   "execution_count": 288,
   "metadata": {},
   "outputs": [
    {
     "data": {
      "image/png": "[encoded data removed]",
      "text/plain": [
       "<Figure size 1152x576 with 1 Axes>"
      ]
     },
     "metadata": {
      "needs_background": "light"
     },
     "output_type": "display_data"
    }
   ],
   "source": [
    "y_hat_avg = test.copy()\n",
    "fit2 = SimpleExpSmoothing(np.asarray(train['value'])).fit(smoothing_level=0.6,optimized=False)\n",
    "y_hat_avg['SES'] = fit2.forecast(len(test))\n",
    "plt.figure(figsize=(16,8))\n",
    "plt.plot(train['value'], label='Train')\n",
    "plt.plot(test['value'], label='Test')\n",
    "plt.plot(y_hat_avg['SES'], label='SES')\n",
    "plt.legend(loc='best')\n",
    "plt.show()\n"
   ]
  },
  {
   "cell_type": "code",
   "execution_count": 290,
   "metadata": {},
   "outputs": [
    {
     "name": "stdout",
     "output_type": "stream",
     "text": [
      "19.26597664284116\n"
     ]
    }
   ],
   "source": [
    "rms = sqrt(mean_squared_error(test.value, y_hat_avg.SES))\n",
    "print(rms)\n"
   ]
  },
  {
   "cell_type": "code",
   "execution_count": 292,
   "metadata": {},
   "outputs": [
    {
     "data": {
      "image/png": "[encoded data removed]",
      "text/plain": [
       "<Figure size 1152x576 with 1 Axes>"
      ]
     },
     "metadata": {
      "needs_background": "light"
     },
     "output_type": "display_data"
    }
   ],
   "source": [
    "y_hat_avg = test.copy()\n",
    "\n",
    "fit1 = Holt(np.asarray(train['value'])).fit(smoothing_level = 0.3,smoothing_slope = 0.1)\n",
    "y_hat_avg['Holt_linear'] = fit1.forecast(len(test))\n",
    "\n",
    "plt.figure(figsize=(16,8))\n",
    "plt.plot(train['value'], label='Train')\n",
    "plt.plot(test['value'], label='Test')\n",
    "plt.plot(y_hat_avg['Holt_linear'], label='Holt_linear')\n",
    "plt.legend(loc='best')\n",
    "plt.show()"
   ]
  },
  {
   "cell_type": "code",
   "execution_count": 294,
   "metadata": {},
   "outputs": [
    {
     "name": "stdout",
     "output_type": "stream",
     "text": [
      "427.8690274487521\n"
     ]
    }
   ],
   "source": [
    "rms = sqrt(mean_squared_error(test.value, y_hat_avg.Holt_linear))\n",
    "print(rms)"
   ]
  },
  {
   "cell_type": "code",
   "execution_count": 286,
   "metadata": {},
   "outputs": [
    {
     "data": {
      "text/plain": [
       "10018"
      ]
     },
     "execution_count": 286,
     "metadata": {},
     "output_type": "execute_result"
    }
   ],
   "source": [
    "y_hat['avg'].isna().sum()"
   ]
  },
  {
   "cell_type": "code",
   "execution_count": 285,
   "metadata": {},
   "outputs": [],
   "source": [
    "y_hat['avg']=train['value'].rolling(10,min_periods=1).mean()"
   ]
  },
  {
   "cell_type": "code",
   "execution_count": 280,
   "metadata": {},
   "outputs": [
    {
     "data": {
      "image/png": "[encoded data removed]",
      "text/plain": [
       "<Figure size 432x288 with 1 Axes>"
      ]
     },
     "metadata": {
      "needs_background": "light"
     },
     "output_type": "display_data"
    }
   ],
   "source": [
    "plt.plot(train['value'],label='train')\n",
    "plt.plot(test['value'],label='test')\n",
    "plt.plot(y_hat['avg'],label='average')\n",
    "plt.legend(loc='best')\n",
    "plt.show()"
   ]
  },
  {
   "cell_type": "code",
   "execution_count": 308,
   "metadata": {},
   "outputs": [
    {
     "data": {
      "text/plain": [
       "[<matplotlib.lines.Line2D at 0x23420b38>]"
      ]
     },
     "execution_count": 308,
     "metadata": {},
     "output_type": "execute_result"
    },
    {
     "data": {
      "image/png": "[encoded data removed]",
      "text/plain": [
       "<Figure size 432x288 with 1 Axes>"
      ]
     },
     "metadata": {
      "needs_background": "light"
     },
     "output_type": "display_data"
    }
   ],
   "source": [
    "plt.plot(train.value)"
   ]
  },
  {
   "cell_type": "code",
   "execution_count": 300,
   "metadata": {},
   "outputs": [],
   "source": [
    "from statsmodels.tsa.stattools import adfuller\n",
    "def test_stationarity(timeseries):\n",
    "    \n",
    "    #Determing rolling statistics\n",
    "    rolmean = timeseries.rolling(window=12).mean()\n",
    "    rolstd = timeseries.rolling( window=12).std()\n",
    "\n",
    "    #Plot rolling statistics:\n",
    "    orig = plt.plot(timeseries, color='blue',label='Original')\n",
    "    mean = plt.plot(rolmean, color='red', label='Rolling Mean')\n",
    "    std = plt.plot(rolstd, color='black', label = 'Rolling Std')\n",
    "    plt.legend(loc='best')\n",
    "    plt.title('Rolling Mean & Standard Deviation')\n",
    "    plt.show(block=False)\n",
    "    \n",
    "    #Perform Dickey-Fuller test:\n",
    "    print ('Results of Dickey-Fuller Test:')\n",
    "    dftest = adfuller(timeseries, autolag='AIC')\n",
    "    dfoutput = pd.Series(dftest[0:4], index=['Test Statistic','p-value','#Lags Used','Number of Observations Used'])\n",
    "    for key,value in dftest[4].items():\n",
    "        dfoutput['Critical Value (%s)'%key] = value\n",
    "    print (dfoutput)"
   ]
  },
  {
   "cell_type": "code",
   "execution_count": 306,
   "metadata": {},
   "outputs": [
    {
     "data": {
      "text/plain": [
       "0"
      ]
     },
     "execution_count": 306,
     "metadata": {},
     "output_type": "execute_result"
    }
   ],
   "source": [
    "test['value'].isna().sum()"
   ]
  },
  {
   "cell_type": "code",
   "execution_count": null,
   "metadata": {},
   "outputs": [],
   "source": []
  },
  {
   "cell_type": "code",
   "execution_count": 305,
   "metadata": {},
   "outputs": [
    {
     "data": {
      "image/png": "[encoded data removed]",
      "text/plain": [
       "<Figure size 432x288 with 1 Axes>"
      ]
     },
     "metadata": {
      "needs_background": "light"
     },
     "output_type": "display_data"
    },
    {
     "name": "stdout",
     "output_type": "stream",
     "text": [
      "Results of Dickey-Fuller Test:\n",
      "Test Statistic                -1.282684e+01\n",
      "p-value                        5.988644e-24\n",
      "#Lags Used                     4.900000e+01\n",
      "Number of Observations Used    2.830200e+04\n",
      "Critical Value (1%)           -3.430581e+00\n",
      "Critical Value (5%)           -2.861642e+00\n",
      "Critical Value (10%)          -2.566824e+00\n",
      "dtype: float64\n"
     ]
    }
   ],
   "source": [
    "test_stationarity(train['value'])"
   ]
  },
  {
   "cell_type": "code",
   "execution_count": null,
   "metadata": {},
   "outputs": [],
   "source": []
  },
  {
   "cell_type": "code",
   "execution_count": null,
   "metadata": {},
   "outputs": [],
   "source": []
  },
  {
   "cell_type": "code",
   "execution_count": null,
   "metadata": {},
   "outputs": [],
   "source": []
  },
  {
   "cell_type": "code",
   "execution_count": null,
   "metadata": {},
   "outputs": [],
   "source": []
  }
 ],
 "metadata": {
  "kernelspec": {
   "display_name": "Python 3",
   "language": "python",
   "name": "python3"
  },
  "language_info": {
   "codemirror_mode": {
    "name": "ipython",
    "version": 3
   },
   "file_extension": ".py",
   "mimetype": "text/x-python",
   "name": "python",
   "nbconvert_exporter": "python",
   "pygments_lexer": "ipython3",
   "version": "3.7.3"
  }
 },
 "nbformat": 4,
 "nbformat_minor": 2
}
